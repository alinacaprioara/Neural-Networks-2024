{
 "cells": [
  {
   "cell_type": "markdown",
   "metadata": {
    "colab_type": "text",
    "id": "view-in-github"
   },
   "source": [
    "<a href=\"https://colab.research.google.com/github/Tensor-Reloaded/Neural-Networks-Template-2024/blob/main/Lab02/NumpyExcercises.ipynb\" target=\"_parent\"><img src=\"https://colab.research.google.com/assets/colab-badge.svg\" alt=\"Open In Colab\"/></a>"
   ]
  },
  {
   "cell_type": "markdown",
   "metadata": {
    "id": "1osmmLv1t8Vc"
   },
   "source": [
    "# Assignment 2 - Căprioară Alina"
   ]
  },
  {
   "cell_type": "markdown",
   "metadata": {},
   "source": [
    "### 1. Load the MNIST dataset"
   ]
  },
  {
   "cell_type": "code",
   "execution_count": 95,
   "metadata": {
    "id": "Pv2iHv15vu67"
   },
   "outputs": [],
   "source": [
    "import numpy as np\n",
    "from torchvision.datasets import MNIST\n",
    "\n",
    "def download_mnist(is_train: bool):\n",
    "    dataset = MNIST(root='./data',\n",
    "                    transform=lambda x: np.array(x).flatten(),\n",
    "                    download=True, \n",
    "                    train=is_train)\n",
    "    mnist_data = []\n",
    "    mnist_labels = []\n",
    "    for image, label in dataset:\n",
    "        mnist_data.append(image)\n",
    "        mnist_labels.append(label)\n",
    "    return np.array(mnist_data), np.array(mnist_labels)\n",
    "\n",
    "\n",
    "train_X, train_Y = download_mnist(True)\n",
    "test_X, test_Y = download_mnist(False)"
   ]
  },
  {
   "cell_type": "markdown",
   "metadata": {},
   "source": [
    "### 2. Normalize the data and convert the labels to one-hot-encoding"
   ]
  },
  {
   "cell_type": "code",
   "execution_count": 96,
   "metadata": {},
   "outputs": [],
   "source": [
    "train_X = np.array(train_X)/255.0\n",
    "test_X = np.array(test_X)/255.0\n",
    "\n",
    "def convert_labels(labels):\n",
    "\n",
    "    labels = np.array(labels).astype(int)\n",
    "    classes = 10\n",
    "    matrix = np.zeros((labels.shape[0], classes))\n",
    "    matrix[np.arange(labels.shape[0]), labels] = 1\n",
    "    \n",
    "    return matrix\n",
    "\n",
    "train_Y = convert_labels(train_Y)\n",
    "test_Y = convert_labels(test_Y)"
   ]
  },
  {
   "cell_type": "markdown",
   "metadata": {},
   "source": [
    "### 3. Train the perceptron for 50-500 epochs"
   ]
  },
  {
   "cell_type": "code",
   "execution_count": 102,
   "metadata": {},
   "outputs": [
    {
     "name": "stdout",
     "output_type": "stream",
     "text": [
      "Epoch 1/100, Loss: 42.3788\n",
      "Epoch 2/100, Loss: 31.8975\n",
      "Epoch 3/100, Loss: 30.5685\n",
      "Epoch 4/100, Loss: 29.8248\n",
      "Epoch 5/100, Loss: 29.3171\n",
      "Epoch 6/100, Loss: 28.9365\n",
      "Epoch 7/100, Loss: 28.6348\n",
      "Epoch 8/100, Loss: 28.3867\n",
      "Epoch 9/100, Loss: 28.1772\n",
      "Epoch 10/100, Loss: 27.9967\n",
      "Epoch 11/100, Loss: 27.8389\n",
      "Epoch 12/100, Loss: 27.6991\n",
      "Epoch 13/100, Loss: 27.5740\n",
      "Epoch 14/100, Loss: 27.4611\n",
      "Epoch 15/100, Loss: 27.3583\n",
      "Epoch 16/100, Loss: 27.2643\n",
      "Epoch 17/100, Loss: 27.1776\n",
      "Epoch 18/100, Loss: 27.0974\n",
      "Epoch 19/100, Loss: 27.0228\n",
      "Epoch 20/100, Loss: 26.9532\n",
      "Epoch 21/100, Loss: 26.8879\n",
      "Epoch 22/100, Loss: 26.8265\n",
      "Epoch 23/100, Loss: 26.7686\n",
      "Epoch 24/100, Loss: 26.7138\n",
      "Epoch 25/100, Loss: 26.6619\n",
      "Epoch 26/100, Loss: 26.6126\n",
      "Epoch 27/100, Loss: 26.5657\n",
      "Epoch 28/100, Loss: 26.5209\n",
      "Epoch 29/100, Loss: 26.4781\n",
      "Epoch 30/100, Loss: 26.4371\n",
      "Epoch 31/100, Loss: 26.3979\n",
      "Epoch 32/100, Loss: 26.3602\n",
      "Epoch 33/100, Loss: 26.3240\n",
      "Epoch 34/100, Loss: 26.2891\n",
      "Epoch 35/100, Loss: 26.2556\n",
      "Epoch 36/100, Loss: 26.2232\n",
      "Epoch 37/100, Loss: 26.1919\n",
      "Epoch 38/100, Loss: 26.1617\n",
      "Epoch 39/100, Loss: 26.1325\n",
      "Epoch 40/100, Loss: 26.1042\n",
      "Epoch 41/100, Loss: 26.0768\n",
      "Epoch 42/100, Loss: 26.0503\n",
      "Epoch 43/100, Loss: 26.0245\n",
      "Epoch 44/100, Loss: 25.9995\n",
      "Epoch 45/100, Loss: 25.9752\n",
      "Epoch 46/100, Loss: 25.9515\n",
      "Epoch 47/100, Loss: 25.9286\n",
      "Epoch 48/100, Loss: 25.9062\n",
      "Epoch 49/100, Loss: 25.8844\n",
      "Epoch 50/100, Loss: 25.8632\n",
      "Epoch 51/100, Loss: 25.8425\n",
      "Epoch 52/100, Loss: 25.8223\n",
      "Epoch 53/100, Loss: 25.8026\n",
      "Epoch 54/100, Loss: 25.7834\n",
      "Epoch 55/100, Loss: 25.7646\n",
      "Epoch 56/100, Loss: 25.7463\n",
      "Epoch 57/100, Loss: 25.7284\n",
      "Epoch 58/100, Loss: 25.7108\n",
      "Epoch 59/100, Loss: 25.6937\n",
      "Epoch 60/100, Loss: 25.6769\n",
      "Epoch 61/100, Loss: 25.6605\n",
      "Epoch 62/100, Loss: 25.6444\n",
      "Epoch 63/100, Loss: 25.6287\n",
      "Epoch 64/100, Loss: 25.6132\n",
      "Epoch 65/100, Loss: 25.5981\n",
      "Epoch 66/100, Loss: 25.5833\n",
      "Epoch 67/100, Loss: 25.5687\n",
      "Epoch 68/100, Loss: 25.5545\n",
      "Epoch 69/100, Loss: 25.5405\n",
      "Epoch 70/100, Loss: 25.5267\n",
      "Epoch 71/100, Loss: 25.5133\n",
      "Epoch 72/100, Loss: 25.5000\n",
      "Epoch 73/100, Loss: 25.4870\n",
      "Epoch 74/100, Loss: 25.4743\n",
      "Epoch 75/100, Loss: 25.4617\n",
      "Epoch 76/100, Loss: 25.4494\n",
      "Epoch 77/100, Loss: 25.4372\n",
      "Epoch 78/100, Loss: 25.4253\n",
      "Epoch 79/100, Loss: 25.4136\n",
      "Epoch 80/100, Loss: 25.4021\n",
      "Epoch 81/100, Loss: 25.3907\n",
      "Epoch 82/100, Loss: 25.3795\n",
      "Epoch 83/100, Loss: 25.3686\n",
      "Epoch 84/100, Loss: 25.3577\n",
      "Epoch 85/100, Loss: 25.3471\n",
      "Epoch 86/100, Loss: 25.3366\n",
      "Epoch 87/100, Loss: 25.3263\n",
      "Epoch 88/100, Loss: 25.3161\n",
      "Epoch 89/100, Loss: 25.3061\n",
      "Epoch 90/100, Loss: 25.2962\n",
      "Epoch 91/100, Loss: 25.2865\n",
      "Epoch 92/100, Loss: 25.2769\n",
      "Epoch 93/100, Loss: 25.2674\n",
      "Epoch 94/100, Loss: 25.2581\n",
      "Epoch 95/100, Loss: 25.2489\n",
      "Epoch 96/100, Loss: 25.2398\n",
      "Epoch 97/100, Loss: 25.2309\n",
      "Epoch 98/100, Loss: 25.2221\n",
      "Epoch 99/100, Loss: 25.2134\n",
      "Epoch 100/100, Loss: 25.2048\n",
      "Test Accuracy: 91.32%\n"
     ]
    }
   ],
   "source": [
    "np.random.seed(13)\n",
    "input_size = train_X.shape[1]  # 784 \n",
    "classes = 10\n",
    "\n",
    "W = np.random.randn(input_size, classes) * 0.01\n",
    "bias = np.zeros(classes) \n",
    "\n",
    "def softmax(z):\n",
    "    exp_z = np.exp(z - np.max(z, axis=1, keepdims=True))  #vrem pe fiecare rand\n",
    "    return exp_z / exp_z.sum(axis=1, keepdims=True)\n",
    "    \n",
    "\n",
    "def cross_entropy_loss(y, y_pred):\n",
    "    eps = 1e-8\n",
    "    return -np.sum(y * np.log(y_pred+eps))\n",
    "\n",
    "\n",
    "def gradient_descent(X, y, W, b, learning_rate=0.01): \n",
    "    #forward propagation\n",
    "    y_pred = softmax(np.dot(X, W) + b)\n",
    "\n",
    "    error = y - y_pred # target-y\n",
    "\n",
    "    W += learning_rate*np.dot(X.transpose(), error)\n",
    "    b += learning_rate*np.sum(error, axis=0)\n",
    "    \n",
    "    loss = cross_entropy_loss(y, y_pred)\n",
    "    \n",
    "    return W, b, loss\n",
    "\n",
    "\n",
    "def train(train_X, train_Y, W, b, epochs=100, batch_size=100, learning_rate=0.01):\n",
    "    \n",
    "    num_batches = np.ceil(train_X.shape[0] / batch_size).astype(int)\n",
    "    \n",
    "    for epoch in range(epochs):\n",
    "        \n",
    "        epoch_loss = 0\n",
    "        for i in range(num_batches):\n",
    "            \n",
    "            start = i * batch_size\n",
    "            end = min(start + batch_size, train_X.shape[0])\n",
    "            \n",
    "            X_batch = train_X[start:end]\n",
    "            y_batch = train_Y[start:end]\n",
    "            \n",
    "            W, b, batch_loss = gradient_descent(X_batch, y_batch, W, b, learning_rate)\n",
    "            epoch_loss += batch_loss\n",
    "        \n",
    "        epoch_loss /= num_batches\n",
    "        print(f\"Epoch {epoch+1}/{epochs}, Loss: {epoch_loss:.4f}\")\n",
    "    \n",
    "    return W, b\n",
    "\n",
    "\n",
    "W, bias = train(train_X, train_Y, W, bias, epochs=100, batch_size=100, learning_rate=0.01)\n",
    "\n",
    "\n",
    "def accuracy(X, y, W, b):\n",
    "    y_pred = softmax(np.dot(X, W) + b)\n",
    "    predicted_classes = np.argmax(y_pred, axis=1)\n",
    "    true_classes = np.argmax(y, axis=1)\n",
    "    return np.mean(predicted_classes == true_classes)\n",
    "\n",
    "\n",
    "test_accuracy = accuracy(test_X, test_Y, W, bias)\n",
    "print(f\"Test Accuracy: {test_accuracy * 100:.2f}%\")"
   ]
  },
  {
   "cell_type": "code",
   "execution_count": null,
   "metadata": {},
   "outputs": [],
   "source": []
  }
 ],
 "metadata": {
  "colab": {
   "include_colab_link": true,
   "name": "RN-2024-Lab01",
   "provenance": []
  },
  "kaggle": {
   "accelerator": "none",
   "dataSources": [],
   "dockerImageVersionId": 30775,
   "isGpuEnabled": false,
   "isInternetEnabled": true,
   "language": "python",
   "sourceType": "notebook"
  },
  "kernelspec": {
   "display_name": "Python 3 (ipykernel)",
   "language": "python",
   "name": "python3"
  },
  "language_info": {
   "codemirror_mode": {
    "name": "ipython",
    "version": 3
   },
   "file_extension": ".py",
   "mimetype": "text/x-python",
   "name": "python",
   "nbconvert_exporter": "python",
   "pygments_lexer": "ipython3",
   "version": "3.12.4"
  }
 },
 "nbformat": 4,
 "nbformat_minor": 4
}
