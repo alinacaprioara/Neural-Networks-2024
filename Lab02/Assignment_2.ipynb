{
 "cells": [
  {
   "cell_type": "markdown",
   "metadata": {
    "colab_type": "text",
    "id": "view-in-github"
   },
   "source": [
    "<a href=\"https://colab.research.google.com/github/Tensor-Reloaded/Neural-Networks-Template-2024/blob/main/Lab02/NumpyExcercises.ipynb\" target=\"_parent\"><img src=\"https://colab.research.google.com/assets/colab-badge.svg\" alt=\"Open In Colab\"/></a>"
   ]
  },
  {
   "cell_type": "markdown",
   "metadata": {
    "id": "1osmmLv1t8Vc"
   },
   "source": [
    "# Assignment 2 - Căprioară Alina"
   ]
  },
  {
   "cell_type": "markdown",
   "metadata": {},
   "source": [
    "### 1. Load the MNIST dataset"
   ]
  },
  {
   "cell_type": "code",
   "execution_count": 6,
   "metadata": {
    "id": "Pv2iHv15vu67"
   },
   "outputs": [],
   "source": [
    "import numpy as np\n",
    "from torchvision.datasets import MNIST\n",
    "\n",
    "def download_mnist(is_train: bool):\n",
    "    dataset = MNIST(root='./data',\n",
    "                    transform=lambda x: np.array(x).flatten(),\n",
    "                    download=True, \n",
    "                    train=is_train)\n",
    "    mnist_data = []\n",
    "    mnist_labels = []\n",
    "    for image, label in dataset:\n",
    "        mnist_data.append(image)\n",
    "        mnist_labels.append(label)\n",
    "    return np.array(mnist_data), np.array(mnist_labels)\n",
    "\n",
    "\n",
    "train_X, train_Y = download_mnist(True)\n",
    "test_X, test_Y = download_mnist(False)"
   ]
  },
  {
   "cell_type": "markdown",
   "metadata": {},
   "source": [
    "### 2. Normalize the data and convert the labels to one-hot-encoding"
   ]
  },
  {
   "cell_type": "code",
   "execution_count": 7,
   "metadata": {},
   "outputs": [],
   "source": [
    "train_X = np.array(train_X)/255.0\n",
    "test_X = np.array(test_X)/255.0\n",
    "\n",
    "def convert_labels(labels):\n",
    "\n",
    "    labels = np.array(labels).astype(int)\n",
    "    classes = 10\n",
    "    matrix = np.zeros((labels.shape[0], classes))\n",
    "    matrix[np.arange(labels.shape[0]), labels] = 1\n",
    "    \n",
    "    return matrix\n",
    "\n",
    "train_Y = convert_labels(train_Y)\n",
    "test_Y = convert_labels(test_Y)"
   ]
  },
  {
   "cell_type": "markdown",
   "metadata": {},
   "source": [
    "### 3. Train the perceptron for 50-500 epochs"
   ]
  },
  {
   "cell_type": "code",
   "execution_count": null,
   "metadata": {},
   "outputs": [],
   "source": [
    "np.random.seed(50)\n",
    "input_size = train_X.shape[1]  # 784 \n",
    "classes = 10\n",
    "\n",
    "W = np.random.randn(input_size, classes) * 0.01\n",
    "bias = np.zeros(classes) \n",
    "\n",
    "def softmax(z):\n",
    "    exp_z = np.exp(z - np.max(z, axis=1, keepdims=True))  #vrem pe fiecare rand\n",
    "    return exp_z / exp_z.sum(axis=1, keepdims=True)\n",
    "    \n",
    "\n",
    "def cross_entropy_loss(y, y_pred):\n",
    "    eps = 1e-8\n",
    "    return -np.sum(y * np.log(y_pred+eps))\n",
    "\n",
    "\n",
    "def gradient_descent(X, y, W, b, learning_rate=0.01): \n",
    "    #forward propagation\n",
    "    y_pred = softmax(np.dot(X, W) + b)\n",
    "\n",
    "    error = y_pred - y # target-y\n",
    "\n",
    "    W -= learning_rate*np.dot(X.transpose(), error)\n",
    "    b -= learning_rate*np.sum(error, axis=0)\n",
    "    \n",
    "    loss = cross_entropy_loss(y, y_pred)\n",
    "    \n",
    "    return W, b, loss\n",
    "\n",
    "\n",
    "def train(train_X, train_Y, W, b, epochs=100, batch_size=100, learning_rate=0.01):\n",
    "    \n",
    "    num_batches = np.ceil(train_X.shape[0] / batch_size).astype(int)\n",
    "    \n",
    "    for epoch in range(epochs):\n",
    "        \n",
    "        epoch_loss = 0\n",
    "        for i in range(num_batches):\n",
    "            \n",
    "            start = i * batch_size\n",
    "            end = min(start + batch_size, train_X.shape[0])\n",
    "            \n",
    "            X_batch = train_X[start:end]\n",
    "            y_batch = train_Y[start:end]\n",
    "            \n",
    "            W, b, batch_loss = gradient_descent(X_batch, y_batch, W, b, learning_rate)\n",
    "            epoch_loss += batch_loss\n",
    "        \n",
    "        epoch_loss /= num_batches\n",
    "        print(f\"Epoch {epoch+1}/{epochs}, Loss: {epoch_loss:.4f}\")\n",
    "    \n",
    "    return W, b\n",
    "\n",
    "\n",
    "W, bias = train(train_X, train_Y, W, bias, epochs=100, batch_size=100, learning_rate=0.01)\n",
    "\n",
    "\n",
    "def accuracy(X, y, W, b):\n",
    "    y_pred = softmax(np.dot(X, W) + b)\n",
    "    predicted_classes = np.argmax(y_pred, axis=1)\n",
    "    true_classes = np.argmax(y, axis=1)\n",
    "    return np.mean(predicted_classes == true_classes)\n",
    "\n",
    "\n",
    "test_accuracy = accuracy(test_X, test_Y, W, bias)\n",
    "print(f\"Testing Data Accuracy: {test_accuracy * 100:.2f}%\")"
   ]
  },
  {
   "cell_type": "code",
   "execution_count": null,
   "metadata": {},
   "outputs": [],
   "source": []
  }
 ],
 "metadata": {
  "colab": {
   "include_colab_link": true,
   "name": "RN-2024-Lab01",
   "provenance": []
  },
  "kaggle": {
   "accelerator": "none",
   "dataSources": [],
   "dockerImageVersionId": 30775,
   "isGpuEnabled": false,
   "isInternetEnabled": true,
   "language": "python",
   "sourceType": "notebook"
  },
  "kernelspec": {
   "display_name": "Python 3 (ipykernel)",
   "language": "python",
   "name": "python3"
  },
  "language_info": {
   "codemirror_mode": {
    "name": "ipython",
    "version": 3
   },
   "file_extension": ".py",
   "mimetype": "text/x-python",
   "name": "python",
   "nbconvert_exporter": "python",
   "pygments_lexer": "ipython3",
   "version": "3.12.4"
  }
 },
 "nbformat": 4,
 "nbformat_minor": 4
}
